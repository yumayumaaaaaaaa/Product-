{
  "nbformat": 4,
  "nbformat_minor": 0,
  "metadata": {
    "colab": {
      "provenance": []
    },
    "kernelspec": {
      "name": "python3",
      "display_name": "Python 3"
    },
    "language_info": {
      "name": "python"
    }
  },
  "cells": [
    {
      "cell_type": "markdown",
      "source": [
        "～日本の都道府県別平均寿命分析～"
      ],
      "metadata": {
        "id": "qLONr6HIkdzY"
      }
    },
    {
      "cell_type": "markdown",
      "source": [
        "各都道府県の平均寿命と関連する要因を分析をしてみる。CSVファイル（Japan_life_expectancy.csv）には、各都道府県の平均寿命と様々な社会経済指標が含まれている。"
      ],
      "metadata": {
        "id": "iyKXVr-YdagR"
      }
    },
    {
      "cell_type": "markdown",
      "source": [
        "参考\n",
        "*   [kaggle](https://www.kaggle.com/)\n",
        "*   [e-stat](https://www.e-stat.go.jp/en/stat-search/files?page=1&layout=datalist&toukei=00200502&tstat=000001201620&cycle=0&year=20230&month=0&tclass1=000001201621&tclass2val=0)\n",
        "\n"
      ],
      "metadata": {
        "id": "gDm1lxVRlB_4"
      }
    },
    {
      "cell_type": "markdown",
      "source": [
        "ダウンロードしたCSVファイルには、健康や教育、労働市場に関する各種の統計データが含まれています。以下は、ヘッダーとデータの内容に関する説明です。\n",
        "\n",
        "### データ内容\n",
        "- **Prefecture**: 都道府県名\n",
        "- **Life_expectancy**: 平均寿命\n",
        "- **Physician**: 医師数\n",
        "- **Junior_col**: 中学校の数\n",
        "- **University**: 大学の数\n",
        "- **Public_Hosp**: 公立病院の数\n",
        "- **Pshic_hosp**: 精神病院の数\n",
        "- **Beds_psic**: 精神病院のベッド数\n",
        "- **Nurses**: 看護師の数\n",
        "- **Avg_hours**: 平均労働時間\n",
        "- **Salary**: 給与\n",
        "- **Elementary_school**: 小学校の数\n",
        "- **Sport_fac**: スポーツ施設の数\n",
        "- **Park**: 公園の数\n",
        "- **Forest**: 森林の面積\n",
        "- **Income_per_capita**: 一人当たりの所得\n",
        "- **Density_pop**: 人口密度\n",
        "- **Hospitals**: 病院の数\n",
        "- **Beds**: 病院のベッド数\n",
        "- **Ambulances**: 救急車の数\n",
        "- **Health_exp**: 健康に対する支出\n",
        "- **Educ_exp**: 教育に対する支出\n",
        "- **Welfare_exp**: 福祉に対する支出\n",
        "\n",
        "\n"
      ],
      "metadata": {
        "id": "vGk9qw0Ndghc"
      }
    },
    {
      "cell_type": "code",
      "source": [
        "import csv\n",
        "\n",
        "filename = \"Japan_life_expectancy.csv\"\n",
        "\n",
        "# CSVファイルを開いて先頭5行を表示\n",
        "with open(filename, newline='', encoding='utf-8') as csvfile:\n",
        "    reader = csv.reader(csvfile)\n",
        "\n",
        "    # ヘッダーを読み込む\n",
        "    header = next(reader)\n",
        "    print(\"Header:\", header)"
      ],
      "metadata": {
        "colab": {
          "base_uri": "https://localhost:8080/"
        },
        "id": "lOl-hc4zdg-M",
        "outputId": "faf4e1b0-0939-4ad9-f99c-4dedc038bc0c"
      },
      "execution_count": null,
      "outputs": [
        {
          "output_type": "stream",
          "name": "stdout",
          "text": [
            "Header: ['\\ufeffPrefecture', 'Life_expectancy', 'Physician', 'Junior_col', 'University', 'Public_Hosp', 'Pshic_hosp', 'Beds_psic', 'Nurses', 'Avg_hours', 'Salary', 'Elementary_school', 'Sport_fac', 'Park', 'Forest', 'Income_per capita', 'Density_pop', 'Hospitals', 'Beds', 'Ambulances', 'Health_exp', 'Educ_exp', 'Welfare_exp']\n"
          ]
        }
      ]
    },
    {
      "cell_type": "code",
      "source": [
        "import gdown\n",
        "import pandas as pd\n",
        "import matplotlib.pyplot as plt\n",
        "\n",
        "\n",
        "# データを読み込む関数\n",
        "def load_data():\n",
        "    \"\"\"\n",
        "    Japan_life_expectancy.csv を読み込み、データフレームを返す。\n",
        "    \"\"\"\n",
        "    return pd.read_csv('Japan_life_expectancy.csv')"
      ],
      "metadata": {
        "id": "nSrd-t1vf2-F"
      },
      "execution_count": null,
      "outputs": []
    },
    {
      "cell_type": "code",
      "source": [
        "# 平均寿命の平均値を計算する関数\n",
        "def calculate_average_life_expectancy():\n",
        "    \"\"\"\n",
        "    全都道府県の平均寿命の平均値を計算して返す。\n",
        "    \"\"\"\n",
        "    df = load_data()\n",
        "    return df['Life_expectancy'].mean()"
      ],
      "metadata": {
        "id": "V7ahKKs2jp9P"
      },
      "execution_count": null,
      "outputs": []
    },
    {
      "cell_type": "code",
      "source": [
        "# 平均寿命が最も高い都道府県を見つける関数\n",
        "def find_highest_life_expectancy():\n",
        "    \"\"\"\n",
        "    平均寿命が最も高い都道府県とその寿命を返す。\n",
        "    \"\"\"\n",
        "    df = load_data()\n",
        "    max_life_exp = df['Life_expectancy'].max()\n",
        "    prefecture = df.loc[df['Life_expectancy'] == max_life_exp, 'Prefecture'].iloc[0]\n",
        "    return prefecture, max_life_exp"
      ],
      "metadata": {
        "id": "sv22wVFRjuOt"
      },
      "execution_count": null,
      "outputs": []
    },
    {
      "cell_type": "code",
      "source": [
        "# 散布図を作成する関数\n",
        "def visualize_relationship(factor):\n",
        "    \"\"\"\n",
        "    指定された要因と平均寿命の散布図を作成して表示する。\n",
        "    \"\"\"\n",
        "    df = load_data()\n",
        "    plt.figure(figsize=(10, 6))\n",
        "    plt.scatter(df[factor], df['Life_expectancy'], alpha=0.7)\n",
        "    plt.xlabel(factor)\n",
        "    plt.ylabel('Life_expentacy')\n",
        "    plt.title(f\"Relationship between {factor} and Life_expentancy\")\n",
        "    plt.grid(True)\n",
        "    plt.show()"
      ],
      "metadata": {
        "id": "oPNlhDEzjx6V"
      },
      "execution_count": null,
      "outputs": []
    },
    {
      "cell_type": "code",
      "source": [
        "visualize_relationship('Junior_col')"
      ],
      "metadata": {
        "colab": {
          "base_uri": "https://localhost:8080/",
          "height": 1000
        },
        "id": "_ehSGtSxGxV4",
        "outputId": "3b8f1565-838c-4765-da16-60f250178d69"
      },
      "execution_count": null,
      "outputs": [
        {
          "output_type": "stream",
          "name": "stderr",
          "text": [
            "WARNING:matplotlib.font_manager:findfont: Font family 'IPAexGothic' not found.\n",
            "WARNING:matplotlib.font_manager:findfont: Font family 'IPAexGothic' not found.\n",
            "WARNING:matplotlib.font_manager:findfont: Font family 'IPAexGothic' not found.\n",
            "WARNING:matplotlib.font_manager:findfont: Font family 'IPAexGothic' not found.\n",
            "WARNING:matplotlib.font_manager:findfont: Font family 'IPAexGothic' not found.\n",
            "WARNING:matplotlib.font_manager:findfont: Font family 'IPAexGothic' not found.\n",
            "WARNING:matplotlib.font_manager:findfont: Font family 'IPAexGothic' not found.\n",
            "WARNING:matplotlib.font_manager:findfont: Font family 'IPAexGothic' not found.\n",
            "WARNING:matplotlib.font_manager:findfont: Font family 'IPAexGothic' not found.\n",
            "WARNING:matplotlib.font_manager:findfont: Font family 'IPAexGothic' not found.\n",
            "WARNING:matplotlib.font_manager:findfont: Font family 'IPAexGothic' not found.\n",
            "WARNING:matplotlib.font_manager:findfont: Font family 'IPAexGothic' not found.\n",
            "WARNING:matplotlib.font_manager:findfont: Font family 'IPAexGothic' not found.\n",
            "WARNING:matplotlib.font_manager:findfont: Font family 'IPAexGothic' not found.\n",
            "WARNING:matplotlib.font_manager:findfont: Font family 'IPAexGothic' not found.\n",
            "WARNING:matplotlib.font_manager:findfont: Font family 'IPAexGothic' not found.\n",
            "WARNING:matplotlib.font_manager:findfont: Font family 'IPAexGothic' not found.\n",
            "WARNING:matplotlib.font_manager:findfont: Font family 'IPAexGothic' not found.\n",
            "WARNING:matplotlib.font_manager:findfont: Font family 'IPAexGothic' not found.\n",
            "WARNING:matplotlib.font_manager:findfont: Font family 'IPAexGothic' not found.\n",
            "WARNING:matplotlib.font_manager:findfont: Font family 'IPAexGothic' not found.\n",
            "WARNING:matplotlib.font_manager:findfont: Font family 'IPAexGothic' not found.\n",
            "WARNING:matplotlib.font_manager:findfont: Font family 'IPAexGothic' not found.\n",
            "WARNING:matplotlib.font_manager:findfont: Font family 'IPAexGothic' not found.\n",
            "WARNING:matplotlib.font_manager:findfont: Font family 'IPAexGothic' not found.\n",
            "WARNING:matplotlib.font_manager:findfont: Font family 'IPAexGothic' not found.\n",
            "WARNING:matplotlib.font_manager:findfont: Font family 'IPAexGothic' not found.\n",
            "WARNING:matplotlib.font_manager:findfont: Font family 'IPAexGothic' not found.\n",
            "WARNING:matplotlib.font_manager:findfont: Font family 'IPAexGothic' not found.\n",
            "WARNING:matplotlib.font_manager:findfont: Font family 'IPAexGothic' not found.\n",
            "WARNING:matplotlib.font_manager:findfont: Font family 'IPAexGothic' not found.\n",
            "WARNING:matplotlib.font_manager:findfont: Font family 'IPAexGothic' not found.\n",
            "WARNING:matplotlib.font_manager:findfont: Font family 'IPAexGothic' not found.\n",
            "WARNING:matplotlib.font_manager:findfont: Font family 'IPAexGothic' not found.\n",
            "WARNING:matplotlib.font_manager:findfont: Font family 'IPAexGothic' not found.\n",
            "WARNING:matplotlib.font_manager:findfont: Font family 'IPAexGothic' not found.\n",
            "WARNING:matplotlib.font_manager:findfont: Font family 'IPAexGothic' not found.\n",
            "WARNING:matplotlib.font_manager:findfont: Font family 'IPAexGothic' not found.\n",
            "WARNING:matplotlib.font_manager:findfont: Font family 'IPAexGothic' not found.\n",
            "WARNING:matplotlib.font_manager:findfont: Font family 'IPAexGothic' not found.\n",
            "WARNING:matplotlib.font_manager:findfont: Font family 'IPAexGothic' not found.\n",
            "WARNING:matplotlib.font_manager:findfont: Font family 'IPAexGothic' not found.\n",
            "WARNING:matplotlib.font_manager:findfont: Font family 'IPAexGothic' not found.\n",
            "WARNING:matplotlib.font_manager:findfont: Font family 'IPAexGothic' not found.\n",
            "WARNING:matplotlib.font_manager:findfont: Font family 'IPAexGothic' not found.\n",
            "WARNING:matplotlib.font_manager:findfont: Font family 'IPAexGothic' not found.\n",
            "WARNING:matplotlib.font_manager:findfont: Font family 'IPAexGothic' not found.\n",
            "WARNING:matplotlib.font_manager:findfont: Font family 'IPAexGothic' not found.\n",
            "WARNING:matplotlib.font_manager:findfont: Font family 'IPAexGothic' not found.\n"
          ]
        },
        {
          "output_type": "display_data",
          "data": {
            "text/plain": [
              "<Figure size 1000x600 with 1 Axes>"
            ],
            "image/png": "[encoded data removed]"
          },
          "metadata": {}
        }
      ]
    }
  ]
}